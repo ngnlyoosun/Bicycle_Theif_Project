{
 "cells": [
  {
   "cell_type": "markdown",
   "id": "86155b8a",
   "metadata": {
    "id": "86155b8a"
   },
   "source": [
    "# Bicycle Thefts \n"
   ]
  },
  {
   "cell_type": "code",
   "execution_count": 1,
   "id": "00c839fd",
   "metadata": {
    "id": "00c839fd"
   },
   "outputs": [],
   "source": [
    "import numpy as np\n",
    "import pandas as pd\n",
    "import matplotlib.pylab as plt\n",
    "import seaborn as sns\n",
    "import warnings\n",
    "warnings.filterwarnings('ignore')"
   ]
  },
  {
   "cell_type": "code",
   "execution_count": 2,
   "id": "3b8f3001",
   "metadata": {
    "id": "3b8f3001"
   },
   "outputs": [],
   "source": [
    "df_Bicycle_Theft = pd.read_csv('/Users/chchasong/Desktop/Bycycle_theft_Group_Group3_section_section3COMP247Project/Bicycle_Thefts.csv')\n"
   ]
  },
  {
   "cell_type": "code",
   "execution_count": 3,
   "id": "4f47b429",
   "metadata": {
    "colab": {
     "base_uri": "https://localhost:8080/",
     "height": 508
    },
    "id": "4f47b429",
    "outputId": "d05c010d-4446-49e7-d999-dee1c9fe8c10"
   },
   "outputs": [
    {
     "data": {
      "text/html": [
       "<div>\n",
       "<style scoped>\n",
       "    .dataframe tbody tr th:only-of-type {\n",
       "        vertical-align: middle;\n",
       "    }\n",
       "\n",
       "    .dataframe tbody tr th {\n",
       "        vertical-align: top;\n",
       "    }\n",
       "\n",
       "    .dataframe thead th {\n",
       "        text-align: right;\n",
       "    }\n",
       "</style>\n",
       "<table border=\"1\" class=\"dataframe\">\n",
       "  <thead>\n",
       "    <tr style=\"text-align: right;\">\n",
       "      <th></th>\n",
       "      <th>X</th>\n",
       "      <th>Y</th>\n",
       "      <th>Occurrence_Year</th>\n",
       "      <th>Occurrence_Month</th>\n",
       "      <th>Occurrence_DayOfWeek</th>\n",
       "      <th>Occurrence_DayOfMonth</th>\n",
       "      <th>Occurrence_DayOfYear</th>\n",
       "      <th>Occurrence_Hour</th>\n",
       "      <th>Division</th>\n",
       "      <th>City</th>\n",
       "      <th>...</th>\n",
       "      <th>Premises_Type</th>\n",
       "      <th>Bike_Make</th>\n",
       "      <th>Bike_Model</th>\n",
       "      <th>Bike_Type</th>\n",
       "      <th>Bike_Speed</th>\n",
       "      <th>Bike_Colour</th>\n",
       "      <th>Cost_of_Bike</th>\n",
       "      <th>Status</th>\n",
       "      <th>Longitude</th>\n",
       "      <th>Latitude</th>\n",
       "    </tr>\n",
       "  </thead>\n",
       "  <tbody>\n",
       "    <tr>\n",
       "      <th>0</th>\n",
       "      <td>630640.7348</td>\n",
       "      <td>4841466.057</td>\n",
       "      <td>2016</td>\n",
       "      <td>January</td>\n",
       "      <td>Thursday</td>\n",
       "      <td>14</td>\n",
       "      <td>14</td>\n",
       "      <td>9</td>\n",
       "      <td>D53</td>\n",
       "      <td>Toronto</td>\n",
       "      <td>...</td>\n",
       "      <td>Commercial</td>\n",
       "      <td>OT</td>\n",
       "      <td>GTR</td>\n",
       "      <td>RC</td>\n",
       "      <td>10</td>\n",
       "      <td>BLK</td>\n",
       "      <td>4300.0</td>\n",
       "      <td>STOLEN</td>\n",
       "      <td>-79.378052</td>\n",
       "      <td>43.716718</td>\n",
       "    </tr>\n",
       "    <tr>\n",
       "      <th>1</th>\n",
       "      <td>625451.8092</td>\n",
       "      <td>4838784.216</td>\n",
       "      <td>2016</td>\n",
       "      <td>January</td>\n",
       "      <td>Friday</td>\n",
       "      <td>15</td>\n",
       "      <td>15</td>\n",
       "      <td>12</td>\n",
       "      <td>D13</td>\n",
       "      <td>Toronto</td>\n",
       "      <td>...</td>\n",
       "      <td>Outside</td>\n",
       "      <td>CARRERA</td>\n",
       "      <td>UNKN</td>\n",
       "      <td>MT</td>\n",
       "      <td>0</td>\n",
       "      <td>GRY</td>\n",
       "      <td>350.0</td>\n",
       "      <td>STOLEN</td>\n",
       "      <td>-79.443068</td>\n",
       "      <td>43.693476</td>\n",
       "    </tr>\n",
       "    <tr>\n",
       "      <th>2</th>\n",
       "      <td>630382.0759</td>\n",
       "      <td>4833011.697</td>\n",
       "      <td>2016</td>\n",
       "      <td>January</td>\n",
       "      <td>Saturday</td>\n",
       "      <td>16</td>\n",
       "      <td>16</td>\n",
       "      <td>14</td>\n",
       "      <td>D52</td>\n",
       "      <td>Toronto</td>\n",
       "      <td>...</td>\n",
       "      <td>Commercial</td>\n",
       "      <td>GT</td>\n",
       "      <td>KARAKORAM COMP</td>\n",
       "      <td>MT</td>\n",
       "      <td>27</td>\n",
       "      <td>BLK</td>\n",
       "      <td>600.0</td>\n",
       "      <td>STOLEN</td>\n",
       "      <td>-79.383307</td>\n",
       "      <td>43.640671</td>\n",
       "    </tr>\n",
       "    <tr>\n",
       "      <th>3</th>\n",
       "      <td>628186.6657</td>\n",
       "      <td>4834669.206</td>\n",
       "      <td>2016</td>\n",
       "      <td>January</td>\n",
       "      <td>Tuesday</td>\n",
       "      <td>12</td>\n",
       "      <td>12</td>\n",
       "      <td>3</td>\n",
       "      <td>D14</td>\n",
       "      <td>Toronto</td>\n",
       "      <td>...</td>\n",
       "      <td>Apartment</td>\n",
       "      <td>OT</td>\n",
       "      <td>NaN</td>\n",
       "      <td>TO</td>\n",
       "      <td>1</td>\n",
       "      <td>SIL</td>\n",
       "      <td>600.0</td>\n",
       "      <td>STOLEN</td>\n",
       "      <td>-79.410122</td>\n",
       "      <td>43.655971</td>\n",
       "    </tr>\n",
       "    <tr>\n",
       "      <th>4</th>\n",
       "      <td>635387.2505</td>\n",
       "      <td>4836666.036</td>\n",
       "      <td>2016</td>\n",
       "      <td>January</td>\n",
       "      <td>Thursday</td>\n",
       "      <td>14</td>\n",
       "      <td>14</td>\n",
       "      <td>18</td>\n",
       "      <td>D55</td>\n",
       "      <td>Toronto</td>\n",
       "      <td>...</td>\n",
       "      <td>House</td>\n",
       "      <td>UNKNOWN MAKE</td>\n",
       "      <td>NaN</td>\n",
       "      <td>RG</td>\n",
       "      <td>18</td>\n",
       "      <td>BLK</td>\n",
       "      <td>NaN</td>\n",
       "      <td>STOLEN</td>\n",
       "      <td>-79.320360</td>\n",
       "      <td>43.672666</td>\n",
       "    </tr>\n",
       "    <tr>\n",
       "      <th>5</th>\n",
       "      <td>635387.2505</td>\n",
       "      <td>4836666.036</td>\n",
       "      <td>2016</td>\n",
       "      <td>January</td>\n",
       "      <td>Thursday</td>\n",
       "      <td>14</td>\n",
       "      <td>14</td>\n",
       "      <td>18</td>\n",
       "      <td>D55</td>\n",
       "      <td>Toronto</td>\n",
       "      <td>...</td>\n",
       "      <td>House</td>\n",
       "      <td>UNKNOWN MAKE</td>\n",
       "      <td>NaN</td>\n",
       "      <td>RG</td>\n",
       "      <td>18</td>\n",
       "      <td>BLU</td>\n",
       "      <td>NaN</td>\n",
       "      <td>STOLEN</td>\n",
       "      <td>-79.320360</td>\n",
       "      <td>43.672666</td>\n",
       "    </tr>\n",
       "    <tr>\n",
       "      <th>6</th>\n",
       "      <td>642301.4791</td>\n",
       "      <td>4842800.212</td>\n",
       "      <td>2016</td>\n",
       "      <td>January</td>\n",
       "      <td>Friday</td>\n",
       "      <td>15</td>\n",
       "      <td>15</td>\n",
       "      <td>1</td>\n",
       "      <td>D43</td>\n",
       "      <td>Toronto</td>\n",
       "      <td>...</td>\n",
       "      <td>House</td>\n",
       "      <td>RALEIGH</td>\n",
       "      <td>TRIUMH</td>\n",
       "      <td>MT</td>\n",
       "      <td>18</td>\n",
       "      <td>GRN</td>\n",
       "      <td>300.0</td>\n",
       "      <td>UNKNOWN</td>\n",
       "      <td>-79.233009</td>\n",
       "      <td>43.726580</td>\n",
       "    </tr>\n",
       "    <tr>\n",
       "      <th>7</th>\n",
       "      <td>629735.8163</td>\n",
       "      <td>4833304.620</td>\n",
       "      <td>2016</td>\n",
       "      <td>January</td>\n",
       "      <td>Saturday</td>\n",
       "      <td>16</td>\n",
       "      <td>16</td>\n",
       "      <td>22</td>\n",
       "      <td>D52</td>\n",
       "      <td>Toronto</td>\n",
       "      <td>...</td>\n",
       "      <td>Apartment</td>\n",
       "      <td>TR</td>\n",
       "      <td>NaN</td>\n",
       "      <td>MT</td>\n",
       "      <td>24</td>\n",
       "      <td>BLK</td>\n",
       "      <td>300.0</td>\n",
       "      <td>STOLEN</td>\n",
       "      <td>-79.391246</td>\n",
       "      <td>43.643420</td>\n",
       "    </tr>\n",
       "    <tr>\n",
       "      <th>8</th>\n",
       "      <td>626103.5627</td>\n",
       "      <td>4848824.887</td>\n",
       "      <td>2016</td>\n",
       "      <td>January</td>\n",
       "      <td>Tuesday</td>\n",
       "      <td>19</td>\n",
       "      <td>19</td>\n",
       "      <td>18</td>\n",
       "      <td>D32</td>\n",
       "      <td>Toronto</td>\n",
       "      <td>...</td>\n",
       "      <td>House</td>\n",
       "      <td>OTHER</td>\n",
       "      <td>TRI STAR</td>\n",
       "      <td>TR</td>\n",
       "      <td>6</td>\n",
       "      <td>BLU</td>\n",
       "      <td>2000.0</td>\n",
       "      <td>STOLEN</td>\n",
       "      <td>-79.432627</td>\n",
       "      <td>43.783737</td>\n",
       "    </tr>\n",
       "    <tr>\n",
       "      <th>9</th>\n",
       "      <td>629610.6346</td>\n",
       "      <td>4835814.525</td>\n",
       "      <td>2016</td>\n",
       "      <td>January</td>\n",
       "      <td>Wednesday</td>\n",
       "      <td>20</td>\n",
       "      <td>20</td>\n",
       "      <td>14</td>\n",
       "      <td>D52</td>\n",
       "      <td>Toronto</td>\n",
       "      <td>...</td>\n",
       "      <td>Educational</td>\n",
       "      <td>GF</td>\n",
       "      <td>NaN</td>\n",
       "      <td>MT</td>\n",
       "      <td>21</td>\n",
       "      <td>BLK</td>\n",
       "      <td>0.0</td>\n",
       "      <td>STOLEN</td>\n",
       "      <td>-79.392194</td>\n",
       "      <td>43.666032</td>\n",
       "    </tr>\n",
       "  </tbody>\n",
       "</table>\n",
       "<p>10 rows × 23 columns</p>\n",
       "</div>"
      ],
      "text/plain": [
       "             X            Y  Occurrence_Year Occurrence_Month  \\\n",
       "0  630640.7348  4841466.057             2016          January   \n",
       "1  625451.8092  4838784.216             2016          January   \n",
       "2  630382.0759  4833011.697             2016          January   \n",
       "3  628186.6657  4834669.206             2016          January   \n",
       "4  635387.2505  4836666.036             2016          January   \n",
       "5  635387.2505  4836666.036             2016          January   \n",
       "6  642301.4791  4842800.212             2016          January   \n",
       "7  629735.8163  4833304.620             2016          January   \n",
       "8  626103.5627  4848824.887             2016          January   \n",
       "9  629610.6346  4835814.525             2016          January   \n",
       "\n",
       "  Occurrence_DayOfWeek  Occurrence_DayOfMonth  Occurrence_DayOfYear  \\\n",
       "0             Thursday                     14                    14   \n",
       "1               Friday                     15                    15   \n",
       "2             Saturday                     16                    16   \n",
       "3              Tuesday                     12                    12   \n",
       "4             Thursday                     14                    14   \n",
       "5             Thursday                     14                    14   \n",
       "6               Friday                     15                    15   \n",
       "7             Saturday                     16                    16   \n",
       "8              Tuesday                     19                    19   \n",
       "9            Wednesday                     20                    20   \n",
       "\n",
       "   Occurrence_Hour Division     City  ... Premises_Type        Bike_Make  \\\n",
       "0                9      D53  Toronto  ...    Commercial  OT                \n",
       "1               12      D13  Toronto  ...       Outside  CARRERA           \n",
       "2               14      D52  Toronto  ...    Commercial  GT                \n",
       "3                3      D14  Toronto  ...     Apartment  OT                \n",
       "4               18      D55  Toronto  ...         House  UNKNOWN MAKE      \n",
       "5               18      D55  Toronto  ...         House  UNKNOWN MAKE      \n",
       "6                1      D43  Toronto  ...         House  RALEIGH           \n",
       "7               22      D52  Toronto  ...     Apartment  TR                \n",
       "8               18      D32  Toronto  ...         House  OTHER             \n",
       "9               14      D52  Toronto  ...   Educational  GF                \n",
       "\n",
       "        Bike_Model Bike_Type Bike_Speed Bike_Colour Cost_of_Bike   Status  \\\n",
       "0  GTR                    RC         10      BLK          4300.0   STOLEN   \n",
       "1  UNKN                   MT          0      GRY           350.0   STOLEN   \n",
       "2  KARAKORAM COMP         MT         27      BLK           600.0   STOLEN   \n",
       "3              NaN        TO          1      SIL           600.0   STOLEN   \n",
       "4              NaN        RG         18      BLK             NaN   STOLEN   \n",
       "5              NaN        RG         18      BLU             NaN   STOLEN   \n",
       "6  TRIUMH                 MT         18      GRN           300.0  UNKNOWN   \n",
       "7              NaN        MT         24      BLK           300.0   STOLEN   \n",
       "8  TRI STAR               TR          6      BLU          2000.0   STOLEN   \n",
       "9              NaN        MT         21      BLK             0.0   STOLEN   \n",
       "\n",
       "   Longitude   Latitude  \n",
       "0 -79.378052  43.716718  \n",
       "1 -79.443068  43.693476  \n",
       "2 -79.383307  43.640671  \n",
       "3 -79.410122  43.655971  \n",
       "4 -79.320360  43.672666  \n",
       "5 -79.320360  43.672666  \n",
       "6 -79.233009  43.726580  \n",
       "7 -79.391246  43.643420  \n",
       "8 -79.432627  43.783737  \n",
       "9 -79.392194  43.666032  \n",
       "\n",
       "[10 rows x 23 columns]"
      ]
     },
     "execution_count": 3,
     "metadata": {},
     "output_type": "execute_result"
    }
   ],
   "source": [
    "df_Bicycle_Theft.head(10)"
   ]
  },
  {
   "cell_type": "code",
   "execution_count": 4,
   "id": "f011c1b1",
   "metadata": {
    "colab": {
     "base_uri": "https://localhost:8080/"
    },
    "id": "f011c1b1",
    "outputId": "9d0dd672-e0a5-411a-b88c-2020446d94fa"
   },
   "outputs": [
    {
     "data": {
      "text/plain": [
       "(27128, 23)"
      ]
     },
     "execution_count": 4,
     "metadata": {},
     "output_type": "execute_result"
    }
   ],
   "source": [
    "df_Bicycle_Theft.shape"
   ]
  },
  {
   "cell_type": "code",
   "execution_count": 5,
   "id": "b01e27c0",
   "metadata": {
    "colab": {
     "base_uri": "https://localhost:8080/"
    },
    "id": "b01e27c0",
    "outputId": "b3078d58-9d67-4663-e24c-4cf2bfc40982"
   },
   "outputs": [
    {
     "data": {
      "text/plain": [
       "array([[630640.7348, 4841466.057, 2016, ..., 'STOLEN', -79.37805212,\n",
       "        43.71671827],\n",
       "       [625451.8092, 4838784.216, 2016, ..., 'STOLEN', -79.44306809,\n",
       "        43.69347565],\n",
       "       [630382.0759, 4833011.697, 2016, ..., 'STOLEN', -79.38330674,\n",
       "        43.64067063],\n",
       "       ...,\n",
       "       [635185.8587, 4836596.889, 2021, ..., 'STOLEN', -79.32287486,\n",
       "        43.67208051],\n",
       "       [635867.4471, 4838091.138, 2021, ..., 'STOLEN', -79.31404693,\n",
       "        43.68540464],\n",
       "       [632931.2004, 4835136.505, 2021, ..., 'STOLEN', -79.35119162,\n",
       "        43.65934342]], dtype=object)"
      ]
     },
     "execution_count": 5,
     "metadata": {},
     "output_type": "execute_result"
    }
   ],
   "source": [
    "df_Bicycle_Theft.values "
   ]
  },
  {
   "cell_type": "code",
   "execution_count": 6,
   "id": "7cf2e450",
   "metadata": {
    "colab": {
     "base_uri": "https://localhost:8080/"
    },
    "id": "7cf2e450",
    "outputId": "8d25fdcc-56c9-4c1a-db65-5125f1aca804"
   },
   "outputs": [
    {
     "data": {
      "text/plain": [
       "Index(['X', 'Y', 'Occurrence_Year', 'Occurrence_Month', 'Occurrence_DayOfWeek',\n",
       "       'Occurrence_DayOfMonth', 'Occurrence_DayOfYear', 'Occurrence_Hour',\n",
       "       'Division', 'City', 'Hood_ID', 'NeighbourhoodName', 'Location_Type',\n",
       "       'Premises_Type', 'Bike_Make', 'Bike_Model', 'Bike_Type', 'Bike_Speed',\n",
       "       'Bike_Colour', 'Cost_of_Bike', 'Status', 'Longitude', 'Latitude'],\n",
       "      dtype='object')"
      ]
     },
     "execution_count": 6,
     "metadata": {},
     "output_type": "execute_result"
    }
   ],
   "source": [
    "df_Bicycle_Theft.columns"
   ]
  },
  {
   "cell_type": "code",
   "execution_count": 7,
   "id": "7ee8ea0a",
   "metadata": {
    "colab": {
     "base_uri": "https://localhost:8080/"
    },
    "id": "7ee8ea0a",
    "outputId": "95e572f9-b6fa-4da2-94b1-c6f960e225d0"
   },
   "outputs": [
    {
     "data": {
      "text/plain": [
       "X                        float64\n",
       "Y                        float64\n",
       "Occurrence_Year            int64\n",
       "Occurrence_Month          object\n",
       "Occurrence_DayOfWeek      object\n",
       "Occurrence_DayOfMonth      int64\n",
       "Occurrence_DayOfYear       int64\n",
       "Occurrence_Hour            int64\n",
       "Division                  object\n",
       "City                      object\n",
       "Hood_ID                   object\n",
       "NeighbourhoodName         object\n",
       "Location_Type             object\n",
       "Premises_Type             object\n",
       "Bike_Make                 object\n",
       "Bike_Model                object\n",
       "Bike_Type                 object\n",
       "Bike_Speed                 int64\n",
       "Bike_Colour               object\n",
       "Cost_of_Bike             float64\n",
       "Status                    object\n",
       "Longitude                float64\n",
       "Latitude                 float64\n",
       "dtype: object"
      ]
     },
     "execution_count": 7,
     "metadata": {},
     "output_type": "execute_result"
    }
   ],
   "source": [
    "df_Bicycle_Theft.dtypes"
   ]
  },
  {
   "cell_type": "code",
   "execution_count": 8,
   "id": "315a6d22",
   "metadata": {
    "colab": {
     "base_uri": "https://localhost:8080/",
     "height": 364
    },
    "id": "315a6d22",
    "outputId": "4dfeb04a-cfc9-4bd7-9c7b-5d635473dc8b"
   },
   "outputs": [
    {
     "data": {
      "text/html": [
       "<div>\n",
       "<style scoped>\n",
       "    .dataframe tbody tr th:only-of-type {\n",
       "        vertical-align: middle;\n",
       "    }\n",
       "\n",
       "    .dataframe tbody tr th {\n",
       "        vertical-align: top;\n",
       "    }\n",
       "\n",
       "    .dataframe thead th {\n",
       "        text-align: right;\n",
       "    }\n",
       "</style>\n",
       "<table border=\"1\" class=\"dataframe\">\n",
       "  <thead>\n",
       "    <tr style=\"text-align: right;\">\n",
       "      <th></th>\n",
       "      <th>X</th>\n",
       "      <th>Y</th>\n",
       "      <th>Occurrence_Year</th>\n",
       "      <th>Occurrence_DayOfMonth</th>\n",
       "      <th>Occurrence_DayOfYear</th>\n",
       "      <th>Occurrence_Hour</th>\n",
       "      <th>Bike_Speed</th>\n",
       "      <th>Cost_of_Bike</th>\n",
       "      <th>Longitude</th>\n",
       "      <th>Latitude</th>\n",
       "    </tr>\n",
       "  </thead>\n",
       "  <tbody>\n",
       "    <tr>\n",
       "      <th>count</th>\n",
       "      <td>26877.000000</td>\n",
       "      <td>2.687700e+04</td>\n",
       "      <td>27128.000000</td>\n",
       "      <td>27128.000000</td>\n",
       "      <td>27128.000000</td>\n",
       "      <td>27128.000000</td>\n",
       "      <td>27128.000000</td>\n",
       "      <td>25259.000000</td>\n",
       "      <td>27128.000000</td>\n",
       "      <td>27128.000000</td>\n",
       "    </tr>\n",
       "    <tr>\n",
       "      <th>mean</th>\n",
       "      <td>629331.847806</td>\n",
       "      <td>4.836663e+06</td>\n",
       "      <td>2017.309311</td>\n",
       "      <td>15.616301</td>\n",
       "      <td>198.373452</td>\n",
       "      <td>13.272818</td>\n",
       "      <td>14.132299</td>\n",
       "      <td>952.099021</td>\n",
       "      <td>-78.660837</td>\n",
       "      <td>43.269612</td>\n",
       "    </tr>\n",
       "    <tr>\n",
       "      <th>std</th>\n",
       "      <td>4813.899982</td>\n",
       "      <td>4.306900e+03</td>\n",
       "      <td>2.082739</td>\n",
       "      <td>8.585418</td>\n",
       "      <td>77.916371</td>\n",
       "      <td>6.542803</td>\n",
       "      <td>10.543613</td>\n",
       "      <td>1654.555151</td>\n",
       "      <td>7.601975</td>\n",
       "      <td>4.181728</td>\n",
       "    </tr>\n",
       "    <tr>\n",
       "      <th>min</th>\n",
       "      <td>595371.318400</td>\n",
       "      <td>4.796309e+06</td>\n",
       "      <td>2009.000000</td>\n",
       "      <td>1.000000</td>\n",
       "      <td>1.000000</td>\n",
       "      <td>0.000000</td>\n",
       "      <td>0.000000</td>\n",
       "      <td>0.000000</td>\n",
       "      <td>-79.823700</td>\n",
       "      <td>0.000000</td>\n",
       "    </tr>\n",
       "    <tr>\n",
       "      <th>25%</th>\n",
       "      <td>627297.977100</td>\n",
       "      <td>4.834065e+06</td>\n",
       "      <td>2016.000000</td>\n",
       "      <td>8.000000</td>\n",
       "      <td>147.000000</td>\n",
       "      <td>9.000000</td>\n",
       "      <td>6.000000</td>\n",
       "      <td>350.000000</td>\n",
       "      <td>-79.419938</td>\n",
       "      <td>43.649897</td>\n",
       "    </tr>\n",
       "    <tr>\n",
       "      <th>50%</th>\n",
       "      <td>629621.788200</td>\n",
       "      <td>4.835414e+06</td>\n",
       "      <td>2017.000000</td>\n",
       "      <td>16.000000</td>\n",
       "      <td>200.000000</td>\n",
       "      <td>14.000000</td>\n",
       "      <td>15.000000</td>\n",
       "      <td>600.000000</td>\n",
       "      <td>-79.391755</td>\n",
       "      <td>43.662190</td>\n",
       "    </tr>\n",
       "    <tr>\n",
       "      <th>75%</th>\n",
       "      <td>631059.388500</td>\n",
       "      <td>4.837677e+06</td>\n",
       "      <td>2019.000000</td>\n",
       "      <td>23.000000</td>\n",
       "      <td>256.000000</td>\n",
       "      <td>19.000000</td>\n",
       "      <td>21.000000</td>\n",
       "      <td>1000.000000</td>\n",
       "      <td>-79.373026</td>\n",
       "      <td>43.682020</td>\n",
       "    </tr>\n",
       "    <tr>\n",
       "      <th>max</th>\n",
       "      <td>671527.827100</td>\n",
       "      <td>4.863377e+06</td>\n",
       "      <td>2021.000000</td>\n",
       "      <td>31.000000</td>\n",
       "      <td>366.000000</td>\n",
       "      <td>23.000000</td>\n",
       "      <td>99.000000</td>\n",
       "      <td>120000.000000</td>\n",
       "      <td>0.000000</td>\n",
       "      <td>43.905534</td>\n",
       "    </tr>\n",
       "  </tbody>\n",
       "</table>\n",
       "</div>"
      ],
      "text/plain": [
       "                   X             Y  Occurrence_Year  Occurrence_DayOfMonth  \\\n",
       "count   26877.000000  2.687700e+04     27128.000000           27128.000000   \n",
       "mean   629331.847806  4.836663e+06      2017.309311              15.616301   \n",
       "std      4813.899982  4.306900e+03         2.082739               8.585418   \n",
       "min    595371.318400  4.796309e+06      2009.000000               1.000000   \n",
       "25%    627297.977100  4.834065e+06      2016.000000               8.000000   \n",
       "50%    629621.788200  4.835414e+06      2017.000000              16.000000   \n",
       "75%    631059.388500  4.837677e+06      2019.000000              23.000000   \n",
       "max    671527.827100  4.863377e+06      2021.000000              31.000000   \n",
       "\n",
       "       Occurrence_DayOfYear  Occurrence_Hour    Bike_Speed   Cost_of_Bike  \\\n",
       "count          27128.000000     27128.000000  27128.000000   25259.000000   \n",
       "mean             198.373452        13.272818     14.132299     952.099021   \n",
       "std               77.916371         6.542803     10.543613    1654.555151   \n",
       "min                1.000000         0.000000      0.000000       0.000000   \n",
       "25%              147.000000         9.000000      6.000000     350.000000   \n",
       "50%              200.000000        14.000000     15.000000     600.000000   \n",
       "75%              256.000000        19.000000     21.000000    1000.000000   \n",
       "max              366.000000        23.000000     99.000000  120000.000000   \n",
       "\n",
       "          Longitude      Latitude  \n",
       "count  27128.000000  27128.000000  \n",
       "mean     -78.660837     43.269612  \n",
       "std        7.601975      4.181728  \n",
       "min      -79.823700      0.000000  \n",
       "25%      -79.419938     43.649897  \n",
       "50%      -79.391755     43.662190  \n",
       "75%      -79.373026     43.682020  \n",
       "max        0.000000     43.905534  "
      ]
     },
     "execution_count": 8,
     "metadata": {},
     "output_type": "execute_result"
    }
   ],
   "source": [
    "df_Bicycle_Theft.describe()"
   ]
  },
  {
   "cell_type": "code",
   "execution_count": 9,
   "id": "05e4c16a",
   "metadata": {
    "colab": {
     "base_uri": "https://localhost:8080/"
    },
    "id": "05e4c16a",
    "outputId": "30c9a32d-b849-4bd3-ce30-7c231db77098"
   },
   "outputs": [
    {
     "name": "stdout",
     "output_type": "stream",
     "text": [
      "<class 'pandas.core.frame.DataFrame'>\n",
      "RangeIndex: 27128 entries, 0 to 27127\n",
      "Data columns (total 23 columns):\n",
      " #   Column                 Non-Null Count  Dtype  \n",
      "---  ------                 --------------  -----  \n",
      " 0   X                      26877 non-null  float64\n",
      " 1   Y                      26877 non-null  float64\n",
      " 2   Occurrence_Year        27128 non-null  int64  \n",
      " 3   Occurrence_Month       27128 non-null  object \n",
      " 4   Occurrence_DayOfWeek   27128 non-null  object \n",
      " 5   Occurrence_DayOfMonth  27128 non-null  int64  \n",
      " 6   Occurrence_DayOfYear   27128 non-null  int64  \n",
      " 7   Occurrence_Hour        27128 non-null  int64  \n",
      " 8   Division               27128 non-null  object \n",
      " 9   City                   27128 non-null  object \n",
      " 10  Hood_ID                27128 non-null  object \n",
      " 11  NeighbourhoodName      27128 non-null  object \n",
      " 12  Location_Type          27128 non-null  object \n",
      " 13  Premises_Type          27128 non-null  object \n",
      " 14  Bike_Make              27128 non-null  object \n",
      " 15  Bike_Model             16907 non-null  object \n",
      " 16  Bike_Type              27128 non-null  object \n",
      " 17  Bike_Speed             27128 non-null  int64  \n",
      " 18  Bike_Colour            24917 non-null  object \n",
      " 19  Cost_of_Bike           25259 non-null  float64\n",
      " 20  Status                 27128 non-null  object \n",
      " 21  Longitude              27128 non-null  float64\n",
      " 22  Latitude               27128 non-null  float64\n",
      "dtypes: float64(5), int64(5), object(13)\n",
      "memory usage: 4.8+ MB\n"
     ]
    }
   ],
   "source": [
    "df_Bicycle_Theft.info()"
   ]
  },
  {
   "cell_type": "code",
   "execution_count": 10,
   "id": "9bfff56b",
   "metadata": {
    "colab": {
     "base_uri": "https://localhost:8080/",
     "height": 585
    },
    "id": "9bfff56b",
    "outputId": "c148e646-b858-49bb-e51d-7ec9b993408a"
   },
   "outputs": [
    {
     "data": {
      "image/png": "[encoded data removed]",
      "text/plain": [
       "<Figure size 1296x648 with 2 Axes>"
      ]
     },
     "metadata": {
      "needs_background": "light"
     },
     "output_type": "display_data"
    }
   ],
   "source": [
    "correlation=df_Bicycle_Theft.corr()\n",
    "plt.figure(figsize=(18,9))\n",
    "sns.heatmap(correlation,annot=True,cmap='ocean')\n",
    "plt.show()"
   ]
  },
  {
   "cell_type": "markdown",
   "id": "8fb51285",
   "metadata": {
    "id": "e5177684"
   },
   "source": [
    "we need to drope those features which has less correlation, dropping unique columns,dropping repeated columns,and unrelated columns."
   ]
  },
  {
   "cell_type": "code",
   "execution_count": 11,
   "id": "59ca9bef",
   "metadata": {
    "id": "59ca9bef",
    "outputId": "cacbb4c6-104c-4460-faa2-d77c78726ffb"
   },
   "outputs": [
    {
     "data": {
      "text/plain": [
       "<AxesSubplot:xlabel='Occurrence_Hour', ylabel='count'>"
      ]
     },
     "execution_count": 11,
     "metadata": {},
     "output_type": "execute_result"
    },
    {
     "data": {
      "image/png": "[encoded data removed]",
      "text/plain": [
       "<Figure size 1296x648 with 1 Axes>"
      ]
     },
     "metadata": {
      "needs_background": "light"
     },
     "output_type": "display_data"
    }
   ],
   "source": [
    "plt.figure(figsize=(18,9))\n",
    "sns.countplot(df_Bicycle_Theft[\"Occurrence_Hour\"])"
   ]
  },
  {
   "cell_type": "code",
   "execution_count": 12,
   "id": "9ceffc94",
   "metadata": {
    "id": "9ceffc94",
    "outputId": "d00cd7ce-1c00-4b3b-f23c-74028dd513ca"
   },
   "outputs": [
    {
     "data": {
      "text/plain": [
       "<AxesSubplot:xlabel='Occurrence_Year', ylabel='count'>"
      ]
     },
     "execution_count": 12,
     "metadata": {},
     "output_type": "execute_result"
    },
    {
     "data": {
      "image/png": "[encoded data removed]",
      "text/plain": [
       "<Figure size 1296x648 with 1 Axes>"
      ]
     },
     "metadata": {
      "needs_background": "light"
     },
     "output_type": "display_data"
    }
   ],
   "source": [
    "plt.figure(figsize=(18,9))\n",
    "sns.countplot(df_Bicycle_Theft[\"Occurrence_Year\"])"
   ]
  },
  {
   "cell_type": "code",
   "execution_count": 13,
   "id": "183f0197",
   "metadata": {
    "id": "183f0197",
    "outputId": "523db2ab-153f-49fc-fd5c-e439b5c6b39a"
   },
   "outputs": [
    {
     "data": {
      "text/plain": [
       "<AxesSubplot:xlabel='City', ylabel='count'>"
      ]
     },
     "execution_count": 13,
     "metadata": {},
     "output_type": "execute_result"
    },
    {
     "data": {
      "image/png": "[encoded data removed]",
      "text/plain": [
       "<Figure size 576x288 with 1 Axes>"
      ]
     },
     "metadata": {
      "needs_background": "light"
     },
     "output_type": "display_data"
    }
   ],
   "source": [
    "plt.figure(figsize=(8,4))\n",
    "sns.countplot(df_Bicycle_Theft['City'])"
   ]
  },
  {
   "cell_type": "markdown",
   "id": "0b0ff391",
   "metadata": {
    "id": "0b0ff391"
   },
   "source": [
    "#Dropping unique columns\n",
    "\n",
    "#1-Event-Unique Id:\n",
    "\n",
    "#2-Object Id\n",
    "\n",
    "#3-Object Id1\n",
    "\n",
    "#4- X, Y\n",
    "\n",
    "#5-bike make \n",
    "\n",
    "#Dropping repeating columns\n",
    "\n",
    "#1-Primary-Offense \n",
    "\n",
    "#2-Occurrence date \n",
    "\n",
    "#3-Nighbohood Name\n",
    "\n",
    "#Unrelated Data:\n",
    "\n",
    "#1-All report columns \n"
   ]
  },
  {
   "cell_type": "code",
   "execution_count": 14,
   "id": "e8150f87",
   "metadata": {
    "id": "e8150f87"
   },
   "outputs": [],
   "source": [
    "df_Bicycle_Theft=df_Bicycle_Theft.drop(['X', 'Y','Bike_Make','City','Location_Type','Bike_Colour'], axis=1)"
   ]
  },
  {
   "cell_type": "code",
   "execution_count": 15,
   "id": "b1ac6d45",
   "metadata": {
    "colab": {
     "base_uri": "https://localhost:8080/"
    },
    "id": "b1ac6d45",
    "outputId": "4de34411-9966-4af7-de28-e266f68f3ca6"
   },
   "outputs": [
    {
     "name": "stdout",
     "output_type": "stream",
     "text": [
      "<class 'pandas.core.frame.DataFrame'>\n",
      "RangeIndex: 27128 entries, 0 to 27127\n",
      "Data columns (total 17 columns):\n",
      " #   Column                 Non-Null Count  Dtype  \n",
      "---  ------                 --------------  -----  \n",
      " 0   Occurrence_Year        27128 non-null  int64  \n",
      " 1   Occurrence_Month       27128 non-null  object \n",
      " 2   Occurrence_DayOfWeek   27128 non-null  object \n",
      " 3   Occurrence_DayOfMonth  27128 non-null  int64  \n",
      " 4   Occurrence_DayOfYear   27128 non-null  int64  \n",
      " 5   Occurrence_Hour        27128 non-null  int64  \n",
      " 6   Division               27128 non-null  object \n",
      " 7   Hood_ID                27128 non-null  object \n",
      " 8   NeighbourhoodName      27128 non-null  object \n",
      " 9   Premises_Type          27128 non-null  object \n",
      " 10  Bike_Model             16907 non-null  object \n",
      " 11  Bike_Type              27128 non-null  object \n",
      " 12  Bike_Speed             27128 non-null  int64  \n",
      " 13  Cost_of_Bike           25259 non-null  float64\n",
      " 14  Status                 27128 non-null  object \n",
      " 15  Longitude              27128 non-null  float64\n",
      " 16  Latitude               27128 non-null  float64\n",
      "dtypes: float64(3), int64(5), object(9)\n",
      "memory usage: 3.5+ MB\n"
     ]
    }
   ],
   "source": [
    "df_Bicycle_Theft.info()"
   ]
  },
  {
   "cell_type": "code",
   "execution_count": 16,
   "id": "befc64c5",
   "metadata": {
    "id": "befc64c5",
    "outputId": "97c7ad69-50cc-482b-9e4e-0548fc950df2"
   },
   "outputs": [
    {
     "data": {
      "text/plain": [
       "Occurrence_Year              0\n",
       "Occurrence_Month             0\n",
       "Occurrence_DayOfWeek         0\n",
       "Occurrence_DayOfMonth        0\n",
       "Occurrence_DayOfYear         0\n",
       "Occurrence_Hour              0\n",
       "Division                     0\n",
       "Hood_ID                      0\n",
       "NeighbourhoodName            0\n",
       "Premises_Type                0\n",
       "Bike_Model               10221\n",
       "Bike_Type                    0\n",
       "Bike_Speed                   0\n",
       "Cost_of_Bike              1869\n",
       "Status                       0\n",
       "Longitude                    0\n",
       "Latitude                     0\n",
       "dtype: int64"
      ]
     },
     "execution_count": 16,
     "metadata": {},
     "output_type": "execute_result"
    }
   ],
   "source": [
    "df_Bicycle_Theft.isnull().sum()"
   ]
  },
  {
   "cell_type": "code",
   "execution_count": 17,
   "id": "0826ca35",
   "metadata": {
    "id": "0826ca35"
   },
   "outputs": [],
   "source": [
    "# More then 10000 data is missing in bike modle so we will drop that instead filling the missing values "
   ]
  },
  {
   "cell_type": "code",
   "execution_count": 18,
   "id": "124b887a",
   "metadata": {
    "id": "124b887a"
   },
   "outputs": [],
   "source": [
    "df_Bicycle_Theft.drop(['Bike_Model'],axis=1,inplace=True)"
   ]
  },
  {
   "cell_type": "code",
   "execution_count": 19,
   "id": "4e39d114",
   "metadata": {
    "id": "4e39d114"
   },
   "outputs": [],
   "source": [
    "df_Bicycle_Theft=df_Bicycle_Theft.fillna(df_Bicycle_Theft.mean())"
   ]
  },
  {
   "cell_type": "code",
   "execution_count": 20,
   "id": "2236e6fc",
   "metadata": {
    "id": "2236e6fc",
    "outputId": "7390f15d-99bd-40d8-fefa-7ef088823ca3"
   },
   "outputs": [
    {
     "data": {
      "text/plain": [
       "Occurrence_Year          0\n",
       "Occurrence_Month         0\n",
       "Occurrence_DayOfWeek     0\n",
       "Occurrence_DayOfMonth    0\n",
       "Occurrence_DayOfYear     0\n",
       "Occurrence_Hour          0\n",
       "Division                 0\n",
       "Hood_ID                  0\n",
       "NeighbourhoodName        0\n",
       "Premises_Type            0\n",
       "Bike_Type                0\n",
       "Bike_Speed               0\n",
       "Cost_of_Bike             0\n",
       "Status                   0\n",
       "Longitude                0\n",
       "Latitude                 0\n",
       "dtype: int64"
      ]
     },
     "execution_count": 20,
     "metadata": {},
     "output_type": "execute_result"
    }
   ],
   "source": [
    "df_Bicycle_Theft.isnull().sum()"
   ]
  },
  {
   "cell_type": "code",
   "execution_count": 21,
   "id": "f63689b6",
   "metadata": {
    "id": "f63689b6",
    "outputId": "eb6d1743-334c-49fe-f8d8-71b89af37ce9"
   },
   "outputs": [
    {
     "data": {
      "text/plain": [
       "<AxesSubplot:xlabel='Occurrence_DayOfWeek', ylabel='count'>"
      ]
     },
     "execution_count": 21,
     "metadata": {},
     "output_type": "execute_result"
    },
    {
     "data": {
      "image/png": "[encoded data removed]",
      "text/plain": [
       "<Figure size 1296x648 with 1 Axes>"
      ]
     },
     "metadata": {
      "needs_background": "light"
     },
     "output_type": "display_data"
    }
   ],
   "source": [
    "plt.figure(figsize=(18,9))\n",
    "sns.countplot(df_Bicycle_Theft['Occurrence_DayOfWeek'])"
   ]
  },
  {
   "cell_type": "code",
   "execution_count": 22,
   "id": "3f70cc66",
   "metadata": {
    "id": "3f70cc66",
    "outputId": "9035bf33-2a97-4166-faee-c12ad9e019ca"
   },
   "outputs": [
    {
     "data": {
      "text/plain": [
       "<AxesSubplot:xlabel='Occurrence_Month', ylabel='count'>"
      ]
     },
     "execution_count": 22,
     "metadata": {},
     "output_type": "execute_result"
    },
    {
     "data": {
      "image/png": "[encoded data removed]",
      "text/plain": [
       "<Figure size 1296x648 with 1 Axes>"
      ]
     },
     "metadata": {
      "needs_background": "light"
     },
     "output_type": "display_data"
    }
   ],
   "source": [
    "plt.figure(figsize=(18,9))\n",
    "sns.countplot(df_Bicycle_Theft['Occurrence_Month'])"
   ]
  },
  {
   "cell_type": "code",
   "execution_count": 23,
   "id": "f23de632",
   "metadata": {
    "id": "f23de632",
    "outputId": "27cfe2de-f73b-486f-a1ca-2b3a2fba6907"
   },
   "outputs": [
    {
     "data": {
      "text/plain": [
       "<AxesSubplot:xlabel='Bike_Type', ylabel='count'>"
      ]
     },
     "execution_count": 23,
     "metadata": {},
     "output_type": "execute_result"
    },
    {
     "data": {
      "image/png": "[encoded data removed]",
      "text/plain": [
       "<Figure size 1296x648 with 1 Axes>"
      ]
     },
     "metadata": {
      "needs_background": "light"
     },
     "output_type": "display_data"
    }
   ],
   "source": [
    "plt.figure(figsize=(18,9))\n",
    "sns.countplot(df_Bicycle_Theft['Bike_Type'])"
   ]
  },
  {
   "cell_type": "code",
   "execution_count": 24,
   "id": "811735ab",
   "metadata": {
    "id": "811735ab",
    "outputId": "02cb81ad-a631-4bac-8a96-cc015ad7a080"
   },
   "outputs": [
    {
     "data": {
      "text/plain": [
       "<AxesSubplot:xlabel='Status', ylabel='count'>"
      ]
     },
     "execution_count": 24,
     "metadata": {},
     "output_type": "execute_result"
    },
    {
     "data": {
      "image/png": "[encoded data removed]",
      "text/plain": [
       "<Figure size 1296x648 with 1 Axes>"
      ]
     },
     "metadata": {
      "needs_background": "light"
     },
     "output_type": "display_data"
    }
   ],
   "source": [
    "plt.figure(figsize=(18,9))\n",
    "sns.countplot(df_Bicycle_Theft['Status'])"
   ]
  },
  {
   "cell_type": "code",
   "execution_count": 25,
   "id": "d203640d",
   "metadata": {
    "id": "d203640d"
   },
   "outputs": [],
   "source": [
    "# our target class is imbalaced we need to balance it "
   ]
  },
  {
   "cell_type": "code",
   "execution_count": 26,
   "id": "4e458180",
   "metadata": {
    "id": "4e458180"
   },
   "outputs": [],
   "source": [
    "df_Bicycle_Theft=df_Bicycle_Theft.drop(['NeighbourhoodName','Division','Bike_Type'],axis=1)"
   ]
  },
  {
   "cell_type": "code",
   "execution_count": 27,
   "id": "94e6a113",
   "metadata": {
    "id": "94e6a113",
    "outputId": "a59f9096-9ce6-4ecf-ef13-a4b48b8d78e7",
    "scrolled": true
   },
   "outputs": [
    {
     "data": {
      "text/plain": [
       "Occurrence_Year          0\n",
       "Occurrence_Month         0\n",
       "Occurrence_DayOfWeek     0\n",
       "Occurrence_DayOfMonth    0\n",
       "Occurrence_DayOfYear     0\n",
       "Occurrence_Hour          0\n",
       "Hood_ID                  0\n",
       "Premises_Type            0\n",
       "Bike_Speed               0\n",
       "Cost_of_Bike             0\n",
       "Status                   0\n",
       "Longitude                0\n",
       "Latitude                 0\n",
       "dtype: int64"
      ]
     },
     "execution_count": 27,
     "metadata": {},
     "output_type": "execute_result"
    }
   ],
   "source": [
    "df_Bicycle_Theft.isnull().sum()"
   ]
  },
  {
   "cell_type": "code",
   "execution_count": 28,
   "id": "81f7d8d7",
   "metadata": {
    "id": "81f7d8d7",
    "outputId": "6b85d02d-8310-416d-f381-c6ac5306110c"
   },
   "outputs": [
    {
     "data": {
      "text/plain": [
       "False"
      ]
     },
     "execution_count": 28,
     "metadata": {},
     "output_type": "execute_result"
    }
   ],
   "source": [
    "df_Bicycle_Theft.isnull().values.any()"
   ]
  },
  {
   "cell_type": "code",
   "execution_count": 29,
   "id": "cc69d917",
   "metadata": {
    "colab": {
     "base_uri": "https://localhost:8080/"
    },
    "id": "cc69d917",
    "outputId": "065867dc-0303-4745-bad3-94568aea0ed1"
   },
   "outputs": [
    {
     "data": {
      "text/plain": [
       "Outside        8365\n",
       "Apartment      6397\n",
       "House          4344\n",
       "Other          3167\n",
       "Commercial     3096\n",
       "Educational    1220\n",
       "Transit         539\n",
       "Name: Premises_Type, dtype: int64"
      ]
     },
     "execution_count": 29,
     "metadata": {},
     "output_type": "execute_result"
    }
   ],
   "source": [
    "df_Bicycle_Theft['Premises_Type'].value_counts()"
   ]
  },
  {
   "cell_type": "code",
   "execution_count": 30,
   "id": "30ac7a5d",
   "metadata": {
    "id": "30ac7a5d",
    "outputId": "af38eb1e-cb0b-4b45-d4f3-fae926bd97b7"
   },
   "outputs": [
    {
     "data": {
      "text/plain": [
       "STOLEN       26305\n",
       "UNKNOWN        495\n",
       "RECOVERED      328\n",
       "Name: Status, dtype: int64"
      ]
     },
     "execution_count": 30,
     "metadata": {},
     "output_type": "execute_result"
    }
   ],
   "source": [
    "df_Bicycle_Theft['Status'].value_counts()"
   ]
  },
  {
   "cell_type": "code",
   "execution_count": 31,
   "id": "43c160b1",
   "metadata": {
    "colab": {
     "base_uri": "https://localhost:8080/"
    },
    "id": "43c160b1",
    "outputId": "37233188-3ba3-4934-8fb5-4f3f5e747590"
   },
   "outputs": [
    {
     "data": {
      "text/plain": [
       "0    26800\n",
       "1      328\n",
       "Name: Status, dtype: int64"
      ]
     },
     "execution_count": 31,
     "metadata": {},
     "output_type": "execute_result"
    }
   ],
   "source": [
    "df_Bicycle_Theft['Status'] = [1 if i=='RECOVERED' else 0 for i in df_Bicycle_Theft.Status]\n",
    " \n",
    "df_Bicycle_Theft['Status'].value_counts()"
   ]
  },
  {
   "cell_type": "code",
   "execution_count": 32,
   "id": "1dc07319",
   "metadata": {
    "id": "1dc07319"
   },
   "outputs": [],
   "source": [
    "from sklearn.utils import resample"
   ]
  },
  {
   "cell_type": "code",
   "execution_count": 33,
   "id": "7ab0088e",
   "metadata": {
    "id": "7ab0088e"
   },
   "outputs": [],
   "source": [
    "# Separate majority and minority classes\n",
    "df_Bicycle_Theft_Maj = df_Bicycle_Theft[df_Bicycle_Theft.Status==0]\n",
    "df_Bicycle_Theft_Min = df_Bicycle_Theft[df_Bicycle_Theft.Status==1]"
   ]
  },
  {
   "cell_type": "code",
   "execution_count": 34,
   "id": "7dcbcbc3",
   "metadata": {
    "id": "7dcbcbc3"
   },
   "outputs": [],
   "source": [
    "# Upsample minority class\n",
    "df_Bicycle_Theft_Min_upsampled = resample(df_Bicycle_Theft_Min, \n",
    "                                 replace=True,     \n",
    "                                 n_samples=26800,    \n",
    "                                 random_state=123) \n",
    " "
   ]
  },
  {
   "cell_type": "code",
   "execution_count": 35,
   "id": "f7bfaf1b",
   "metadata": {
    "id": "f7bfaf1b"
   },
   "outputs": [],
   "source": [
    "# Combine majority class with upsampled minority class\n",
    "df_Bicycle_Theft_upsampled = pd.concat([df_Bicycle_Theft_Maj, df_Bicycle_Theft_Min_upsampled])"
   ]
  },
  {
   "cell_type": "code",
   "execution_count": 36,
   "id": "5496cbd1",
   "metadata": {
    "colab": {
     "base_uri": "https://localhost:8080/"
    },
    "id": "5496cbd1",
    "outputId": "9f96cbd4-1e8d-4229-e06e-76de603352d7"
   },
   "outputs": [
    {
     "data": {
      "text/plain": [
       "0    26800\n",
       "1    26800\n",
       "Name: Status, dtype: int64"
      ]
     },
     "execution_count": 36,
     "metadata": {},
     "output_type": "execute_result"
    }
   ],
   "source": [
    "# Display new class counts\n",
    "df_Bicycle_Theft_upsampled.Status.value_counts()"
   ]
  },
  {
   "cell_type": "code",
   "execution_count": 37,
   "id": "pQknXZMwpAHj",
   "metadata": {
    "colab": {
     "base_uri": "https://localhost:8080/",
     "height": 296
    },
    "id": "pQknXZMwpAHj",
    "outputId": "5e0363e5-615a-4507-e60e-6a4afbce3383"
   },
   "outputs": [
    {
     "data": {
      "text/plain": [
       "<AxesSubplot:xlabel='Status', ylabel='count'>"
      ]
     },
     "execution_count": 37,
     "metadata": {},
     "output_type": "execute_result"
    },
    {
     "data": {
      "image/png": "[encoded data removed]",
      "text/plain": [
       "<Figure size 432x288 with 1 Axes>"
      ]
     },
     "metadata": {
      "needs_background": "light"
     },
     "output_type": "display_data"
    }
   ],
   "source": [
    "sns.countplot(df_Bicycle_Theft_upsampled['Status'])"
   ]
  },
  {
   "cell_type": "code",
   "execution_count": 38,
   "id": "e2863a72",
   "metadata": {
    "id": "e2863a72"
   },
   "outputs": [],
   "source": [
    "df_Bicycle_Theft=pd.get_dummies(df_Bicycle_Theft,prefix=[\"Premises_Type\",'Occurrence_DayOfWeek','Occurrence_Month'],\n",
    "                                columns=[\"Premises_Type\",'Occurrence_DayOfWeek','Occurrence_Month'],\n",
    "                                drop_first=True) "
   ]
  },
  {
   "cell_type": "code",
   "execution_count": 39,
   "id": "5f8363d6",
   "metadata": {
    "id": "5f8363d6"
   },
   "outputs": [],
   "source": [
    "df_Bicycle_Theft_upsampled.drop(columns='Hood_ID',inplace=True)"
   ]
  },
  {
   "cell_type": "code",
   "execution_count": 40,
   "id": "a6487fdd",
   "metadata": {
    "colab": {
     "base_uri": "https://localhost:8080/"
    },
    "id": "a6487fdd",
    "outputId": "54b16192-d636-4c65-8866-760f8eb79fb6"
   },
   "outputs": [
    {
     "data": {
      "text/plain": [
       "Occurrence_Year            int64\n",
       "Occurrence_Month          object\n",
       "Occurrence_DayOfWeek      object\n",
       "Occurrence_DayOfMonth      int64\n",
       "Occurrence_DayOfYear       int64\n",
       "Occurrence_Hour            int64\n",
       "Premises_Type             object\n",
       "Bike_Speed                 int64\n",
       "Cost_of_Bike             float64\n",
       "Status                     int64\n",
       "Longitude                float64\n",
       "Latitude                 float64\n",
       "dtype: object"
      ]
     },
     "execution_count": 40,
     "metadata": {},
     "output_type": "execute_result"
    }
   ],
   "source": [
    "df_Bicycle_Theft_upsampled.dtypes"
   ]
  },
  {
   "cell_type": "code",
   "execution_count": 41,
   "id": "daca8c9e",
   "metadata": {
    "id": "daca8c9e"
   },
   "outputs": [],
   "source": [
    "df_Bicycle_Theft_upsampled=pd.get_dummies(df_Bicycle_Theft_upsampled,prefix=[\"Premises_Type\",'Occurrence_DayOfWeek','Occurrence_Month'],\n",
    "                                columns=[\"Premises_Type\",'Occurrence_DayOfWeek','Occurrence_Month'],\n",
    "                                drop_first=True) "
   ]
  },
  {
   "cell_type": "code",
   "execution_count": 42,
   "id": "qhqMSSPfohMI",
   "metadata": {
    "colab": {
     "base_uri": "https://localhost:8080/"
    },
    "id": "qhqMSSPfohMI",
    "outputId": "a614ddbf-5684-4031-c76a-36ba28bc7569"
   },
   "outputs": [
    {
     "data": {
      "text/plain": [
       "Occurrence_Year                     int64\n",
       "Occurrence_DayOfMonth               int64\n",
       "Occurrence_DayOfYear                int64\n",
       "Occurrence_Hour                     int64\n",
       "Bike_Speed                          int64\n",
       "Cost_of_Bike                      float64\n",
       "Status                              int64\n",
       "Longitude                         float64\n",
       "Latitude                          float64\n",
       "Premises_Type_Commercial            uint8\n",
       "Premises_Type_Educational           uint8\n",
       "Premises_Type_House                 uint8\n",
       "Premises_Type_Other                 uint8\n",
       "Premises_Type_Outside               uint8\n",
       "Premises_Type_Transit               uint8\n",
       "Occurrence_DayOfWeek_Monday         uint8\n",
       "Occurrence_DayOfWeek_Saturday       uint8\n",
       "Occurrence_DayOfWeek_Sunday         uint8\n",
       "Occurrence_DayOfWeek_Thursday       uint8\n",
       "Occurrence_DayOfWeek_Tuesday        uint8\n",
       "Occurrence_DayOfWeek_Wednesday      uint8\n",
       "Occurrence_Month_August             uint8\n",
       "Occurrence_Month_December           uint8\n",
       "Occurrence_Month_February           uint8\n",
       "Occurrence_Month_January            uint8\n",
       "Occurrence_Month_July               uint8\n",
       "Occurrence_Month_June               uint8\n",
       "Occurrence_Month_March              uint8\n",
       "Occurrence_Month_May                uint8\n",
       "Occurrence_Month_November           uint8\n",
       "Occurrence_Month_October            uint8\n",
       "Occurrence_Month_September          uint8\n",
       "dtype: object"
      ]
     },
     "execution_count": 42,
     "metadata": {},
     "output_type": "execute_result"
    }
   ],
   "source": [
    "df_Bicycle_Theft_upsampled.dtypes"
   ]
  },
  {
   "cell_type": "code",
   "execution_count": 43,
   "id": "c134354f",
   "metadata": {
    "id": "c134354f"
   },
   "outputs": [],
   "source": [
    "from sklearn.model_selection import train_test_split"
   ]
  },
  {
   "cell_type": "code",
   "execution_count": 44,
   "id": "28c2c325",
   "metadata": {
    "id": "28c2c325"
   },
   "outputs": [],
   "source": [
    "# Separate input features (X) and target variable (y)\n",
    "y = df_Bicycle_Theft_upsampled.Status"
   ]
  },
  {
   "cell_type": "code",
   "execution_count": 45,
   "id": "92484c55",
   "metadata": {
    "id": "92484c55"
   },
   "outputs": [],
   "source": [
    "X = df_Bicycle_Theft_upsampled.drop('Status', axis=1)"
   ]
  },
  {
   "cell_type": "code",
   "execution_count": 46,
   "id": "fc8d2206",
   "metadata": {
    "id": "fc8d2206"
   },
   "outputs": [],
   "source": [
    "X_train, X_test, y_train, y_test = train_test_split(\n",
    " X, y, test_size=0.2, random_state=42)"
   ]
  },
  {
   "cell_type": "code",
   "execution_count": 47,
   "id": "43afd570",
   "metadata": {
    "id": "43afd570"
   },
   "outputs": [],
   "source": [
    "from sklearn.pipeline import Pipeline\n",
    "from sklearn.preprocessing import OneHotEncoder\n",
    "from sklearn.impute import SimpleImputer\n",
    "from sklearn.preprocessing import StandardScaler\n",
    "from sklearn.compose import make_column_transformer\n",
    "from sklearn.pipeline import make_pipeline"
   ]
  },
  {
   "cell_type": "code",
   "execution_count": 48,
   "id": "5cf7ac1f",
   "metadata": {
    "id": "5cf7ac1f"
   },
   "outputs": [],
   "source": [
    "transform_columns= make_column_transformer((OneHotEncoder(),\n",
    "                                            ['Occurrence_Month',\n",
    "                                             'Occurrence_DayOfWeek',\n",
    "                                             'Premises_Type']),\n",
    "                                           remainder='passthrough')"
   ]
  },
  {
   "cell_type": "code",
   "execution_count": 49,
   "id": "f54427b1",
   "metadata": {
    "id": "f54427b1"
   },
   "outputs": [],
   "source": [
    "numeric_Transformation= Pipeline(steps=[('imputer',SimpleImputer(strategy='mean')),\n",
    "                                       ('scaler',StandardScaler())])"
   ]
  },
  {
   "cell_type": "code",
   "execution_count": 50,
   "id": "GSSWYVFAp6pH",
   "metadata": {
    "id": "GSSWYVFAp6pH"
   },
   "outputs": [],
   "source": [
    "pip = Pipeline([('encoder', transform_columns),\n",
    "                ('num_tranform', numeric_Transformation)])"
   ]
  },
  {
   "cell_type": "code",
   "execution_count": 51,
   "id": "6b13922e",
   "metadata": {
    "id": "6b13922e"
   },
   "outputs": [],
   "source": [
    "from sklearn.linear_model import LogisticRegression\n",
    "from sklearn.tree import DecisionTreeClassifier\n",
    "from sklearn.ensemble import RandomForestClassifier,ExtraTreesClassifier\n",
    "from sklearn.svm import SVC\n",
    "from sklearn.compose import ColumnTransformer\n",
    "from sklearn.metrics import confusion_matrix, classification_report\n",
    "import matplotlib.pyplot as plt\n",
    "from sklearn import metrics"
   ]
  },
  {
   "cell_type": "markdown",
   "id": "94a1a748",
   "metadata": {
    "id": "94a1a748"
   },
   "source": [
    "# Logistic Regression "
   ]
  },
  {
   "cell_type": "code",
   "execution_count": 52,
   "id": "3eefa506",
   "metadata": {
    "id": "3eefa506"
   },
   "outputs": [],
   "source": [
    "logistic_regression_group3 = LogisticRegression()"
   ]
  },
  {
   "cell_type": "code",
   "execution_count": 53,
   "id": "c2d318de",
   "metadata": {
    "colab": {
     "base_uri": "https://localhost:8080/"
    },
    "id": "c2d318de",
    "outputId": "355186bc-2650-4927-98d4-fc65875e9eab"
   },
   "outputs": [
    {
     "data": {
      "text/plain": [
       "LogisticRegression()"
      ]
     },
     "execution_count": 53,
     "metadata": {},
     "output_type": "execute_result"
    }
   ],
   "source": [
    "logistic_regression_group3.fit(X_train,y_train)"
   ]
  },
  {
   "cell_type": "code",
   "execution_count": 54,
   "id": "5fe18653",
   "metadata": {
    "id": "5fe18653"
   },
   "outputs": [],
   "source": [
    "score = logistic_regression_group3.score(X_test, y_test)"
   ]
  },
  {
   "cell_type": "code",
   "execution_count": 55,
   "id": "57e3784b",
   "metadata": {
    "colab": {
     "base_uri": "https://localhost:8080/"
    },
    "id": "57e3784b",
    "outputId": "58e2aed1-ff3c-4a85-c255-e456b5907408"
   },
   "outputs": [
    {
     "name": "stdout",
     "output_type": "stream",
     "text": [
      "Test Accuracy Score 0.5567164179104478\n"
     ]
    }
   ],
   "source": [
    "print('Test Accuracy Score', score)"
   ]
  },
  {
   "cell_type": "code",
   "execution_count": 56,
   "id": "8c2dd5cd",
   "metadata": {
    "id": "8c2dd5cd"
   },
   "outputs": [],
   "source": [
    "y_pred = logistic_regression_group3.predict(X_test)"
   ]
  },
  {
   "cell_type": "code",
   "execution_count": 57,
   "id": "1ca65206",
   "metadata": {
    "colab": {
     "base_uri": "https://localhost:8080/"
    },
    "id": "1ca65206",
    "outputId": "e554ec1a-615a-4484-dd41-31918737a41e"
   },
   "outputs": [
    {
     "name": "stdout",
     "output_type": "stream",
     "text": [
      "[[3075 2470]\n",
      " [2282 2893]]\n"
     ]
    }
   ],
   "source": [
    "print(confusion_matrix(y_pred, y_test))"
   ]
  },
  {
   "cell_type": "code",
   "execution_count": 58,
   "id": "8e7c22fc",
   "metadata": {
    "colab": {
     "base_uri": "https://localhost:8080/"
    },
    "id": "8e7c22fc",
    "outputId": "e7112309-54b4-464d-b40a-4a782875fcdf"
   },
   "outputs": [
    {
     "name": "stdout",
     "output_type": "stream",
     "text": [
      "              precision    recall  f1-score   support\n",
      "\n",
      "           0       0.57      0.55      0.56      5545\n",
      "           1       0.54      0.56      0.55      5175\n",
      "\n",
      "    accuracy                           0.56     10720\n",
      "   macro avg       0.56      0.56      0.56     10720\n",
      "weighted avg       0.56      0.56      0.56     10720\n",
      "\n"
     ]
    }
   ],
   "source": [
    "print(classification_report(y_pred, y_test))"
   ]
  },
  {
   "cell_type": "code",
   "execution_count": 59,
   "id": "b44e877f",
   "metadata": {},
   "outputs": [
    {
     "name": "stdout",
     "output_type": "stream",
     "text": [
      "tuned hpyerparameters :(best parameters)  {'C': 1.0, 'penalty': 'l2'}\n",
      "accuracy : 0.5699160447761193\n"
     ]
    }
   ],
   "source": [
    "#Grid search is used to fine tune the model\n",
    "from sklearn.model_selection import GridSearchCV\n",
    "grid={\"C\":np.logspace(-3,3,7), \"penalty\":[\"l1\",\"l2\"]}# l1 lasso l2 ridge\n",
    "\n",
    "logreg_cv=GridSearchCV(logistic_regression_group3,grid,cv=10)\n",
    "logreg_cv.fit(X_train,y_train)\n",
    "\n",
    "print(\"tuned hpyerparameters :(best parameters) \",logreg_cv.best_params_)\n",
    "print(\"accuracy :\",logreg_cv.best_score_)"
   ]
  },
  {
   "cell_type": "code",
   "execution_count": 122,
   "id": "3954f6d4",
   "metadata": {},
   "outputs": [
    {
     "name": "stdout",
     "output_type": "stream",
     "text": [
      "Best Score: 0.5912873134328358\n",
      "Best Hyperparameters: {'C': 1.8017093069504055, 'penalty': 'l1', 'solver': 'liblinear'}\n"
     ]
    }
   ],
   "source": [
    "#Random Grid seach is used \n",
    "from sklearn.model_selection import RandomizedSearchCV\n",
    "from sklearn.model_selection import RepeatedStratifiedKFold\n",
    "from scipy.stats import loguniform\n",
    "space = dict()\n",
    "space['solver'] = ['newton-cg', 'lbfgs', 'liblinear']\n",
    "space['penalty'] = ['none', 'l1', 'l2', 'elasticnet']\n",
    "space['C'] = loguniform(1e-5, 100)\n",
    "random_search = RandomizedSearchCV(logistic_regression_group3, space, n_iter=100, scoring='accuracy', n_jobs=-1, cv=10, random_state=1)\n",
    "# execute search\n",
    "result = random_search.fit(X, y)\n",
    "# summarize result\n",
    "print('Best Score: %s' % result.best_score_)\n",
    "print('Best Hyperparameters: %s' % result.best_params_)"
   ]
  },
  {
   "cell_type": "code",
   "execution_count": 125,
   "id": "84da69cd",
   "metadata": {
    "colab": {
     "base_uri": "https://localhost:8080/",
     "height": 295
    },
    "id": "84da69cd",
    "outputId": "0f8bd8a6-6bc7-418b-f3a5-810c893040b6"
   },
   "outputs": [
    {
     "data": {
      "image/png": "[encoded data removed]",
      "text/plain": [
       "<Figure size 432x288 with 1 Axes>"
      ]
     },
     "metadata": {
      "needs_background": "light"
     },
     "output_type": "display_data"
    }
   ],
   "source": [
    "# ploting ROC curve \n",
    "probs = logistic_regression_group3.predict_proba(X_test)\n",
    "preds = probs[:,1]\n",
    "fpr, tpr, threshold = metrics.roc_curve(y_test, preds)\n",
    "roc_auc = metrics.auc(fpr, tpr)\n",
    "\n",
    "plt.title('Logistic Regression ROC')\n",
    "plt.plot(fpr, tpr, 'b', label = 'AUC = %0.2f' % roc_auc)\n",
    "plt.legend(loc = 'lower right')\n",
    "plt.plot([0, 1], [0, 1],'r--')\n",
    "plt.xlim([0, 1])\n",
    "plt.ylim([0, 1])\n",
    "plt.ylabel('True Positive Rate')\n",
    "plt.xlabel('False Positive Rate')\n",
    "plt.show()\n"
   ]
  },
  {
   "cell_type": "markdown",
   "id": "5f53eb6c",
   "metadata": {
    "id": "5f53eb6c"
   },
   "source": [
    "# Decision Tree "
   ]
  },
  {
   "cell_type": "code",
   "execution_count": 60,
   "id": "68fad2f9",
   "metadata": {
    "colab": {
     "base_uri": "https://localhost:8080/"
    },
    "id": "68fad2f9",
    "outputId": "50ca43e7-dda2-4953-9d42-cc3e0b326d57"
   },
   "outputs": [
    {
     "data": {
      "text/plain": [
       "DecisionTreeClassifier()"
      ]
     },
     "execution_count": 60,
     "metadata": {},
     "output_type": "execute_result"
    }
   ],
   "source": [
    "decision_tree_group3 = DecisionTreeClassifier()\n",
    "decision_tree_group3.fit(X_train,y_train)"
   ]
  },
  {
   "cell_type": "code",
   "execution_count": 61,
   "id": "2c72f3da",
   "metadata": {
    "colab": {
     "base_uri": "https://localhost:8080/"
    },
    "id": "2c72f3da",
    "outputId": "85b1ed1d-8eac-4e94-bc73-59d031492fde"
   },
   "outputs": [
    {
     "name": "stdout",
     "output_type": "stream",
     "text": [
      "Test Accuracy Score 0.992070895522388\n"
     ]
    }
   ],
   "source": [
    "desion_Tree_score = decision_tree_group3.score(X_test, y_test)\n",
    "print('Test Accuracy Score', desion_Tree_score)\n",
    "y_pred_desion = decision_tree_group3.predict(X_test)"
   ]
  },
  {
   "cell_type": "code",
   "execution_count": 62,
   "id": "2d92e181",
   "metadata": {
    "colab": {
     "base_uri": "https://localhost:8080/"
    },
    "id": "2d92e181",
    "outputId": "9d671aaa-8ded-4ae3-84db-eb8c6a2bd5e5"
   },
   "outputs": [
    {
     "name": "stdout",
     "output_type": "stream",
     "text": [
      "[[5272    0]\n",
      " [  85 5363]]\n"
     ]
    }
   ],
   "source": [
    "#cofusion matrix is created \n",
    "desion_Tree_confusion = confusion_matrix(y_pred_desion, y_test)\n",
    "print(desion_Tree_confusion)"
   ]
  },
  {
   "cell_type": "code",
   "execution_count": 63,
   "id": "f3c1ecde",
   "metadata": {
    "colab": {
     "base_uri": "https://localhost:8080/"
    },
    "id": "f3c1ecde",
    "outputId": "50fca752-1cc3-4d03-9522-9aea2a39a064"
   },
   "outputs": [
    {
     "name": "stdout",
     "output_type": "stream",
     "text": [
      "              precision    recall  f1-score   support\n",
      "\n",
      "           0       0.98      1.00      0.99      5272\n",
      "           1       1.00      0.98      0.99      5448\n",
      "\n",
      "    accuracy                           0.99     10720\n",
      "   macro avg       0.99      0.99      0.99     10720\n",
      "weighted avg       0.99      0.99      0.99     10720\n",
      "\n"
     ]
    }
   ],
   "source": [
    "# Classification report is created \n",
    "desion_Tree_CL_Report=classification_report(y_pred_desion, y_test)\n",
    "print(desion_Tree_CL_Report)"
   ]
  },
  {
   "cell_type": "code",
   "execution_count": 64,
   "id": "f7e205d4",
   "metadata": {
    "colab": {
     "base_uri": "https://localhost:8080/",
     "height": 295
    },
    "id": "f7e205d4",
    "outputId": "79603861-805c-443c-9076-f52760ab0944"
   },
   "outputs": [
    {
     "data": {
      "image/png": "[encoded data removed]",
      "text/plain": [
       "<Figure size 432x288 with 1 Axes>"
      ]
     },
     "metadata": {
      "needs_background": "light"
     },
     "output_type": "display_data"
    }
   ],
   "source": [
    "#ROC curve for decieion tree \n",
    "probs = decision_tree_group3.predict_proba(X_test)\n",
    "preds = probs[:,1]\n",
    "fpr, tpr, threshold = metrics.roc_curve(y_test, preds)\n",
    "roc_auc = metrics.auc(fpr, tpr)\n",
    "\n",
    "plt.title('Decision Tree ROC')\n",
    "plt.plot(fpr, tpr, 'b', label = 'AUC = %0.2f' % roc_auc)\n",
    "plt.legend(loc = 'lower right')\n",
    "plt.plot([0, 1], [0, 1],'r--')\n",
    "plt.xlim([0, 1])\n",
    "plt.ylim([0, 1])\n",
    "plt.ylabel('True Positive Rate')\n",
    "plt.xlabel('False Positive Rate')\n",
    "plt.show()"
   ]
  },
  {
   "cell_type": "code",
   "execution_count": 132,
   "id": "w5dkTmmsrwxq",
   "metadata": {
    "colab": {
     "base_uri": "https://localhost:8080/"
    },
    "id": "w5dkTmmsrwxq",
    "outputId": "51750829-894a-416e-e37b-0afdf3ecc43c"
   },
   "outputs": [
    {
     "name": "stdout",
     "output_type": "stream",
     "text": [
      "Accuracy: 0.993 (0.001)\n"
     ]
    }
   ],
   "source": [
    "# cross validation is used to check if the overfiting is occured\n",
    "from sklearn.model_selection import KFold\n",
    "from sklearn.model_selection import cross_val_score\n",
    "\n",
    "cv = KFold(n_splits=10, random_state=42, shuffle=True)\n",
    "scores = cross_val_score(decision_tree_group3, X, y, scoring='accuracy', cv=cv, n_jobs=-1)\n",
    "print('Accuracy: %.3f (%.3f)' % (np.mean(scores), np.std(scores)))"
   ]
  },
  {
   "cell_type": "markdown",
   "id": "45df0065",
   "metadata": {
    "id": "45df0065"
   },
   "source": [
    "# Random Forest"
   ]
  },
  {
   "cell_type": "code",
   "execution_count": 133,
   "id": "cb4dc755",
   "metadata": {
    "id": "cb4dc755"
   },
   "outputs": [],
   "source": [
    "random_forest_group3 = RandomForestClassifier()"
   ]
  },
  {
   "cell_type": "code",
   "execution_count": 134,
   "id": "8cdd4c5d",
   "metadata": {
    "colab": {
     "base_uri": "https://localhost:8080/"
    },
    "id": "8cdd4c5d",
    "outputId": "2490ceda-0e78-4000-d603-f3e9234aa7a4"
   },
   "outputs": [
    {
     "data": {
      "text/plain": [
       "RandomForestClassifier()"
      ]
     },
     "execution_count": 134,
     "metadata": {},
     "output_type": "execute_result"
    }
   ],
   "source": [
    "random_forest_group3.fit(X_train,y_train)"
   ]
  },
  {
   "cell_type": "code",
   "execution_count": 135,
   "id": "04530151",
   "metadata": {
    "colab": {
     "base_uri": "https://localhost:8080/"
    },
    "id": "04530151",
    "outputId": "b069910a-4f8f-4e26-873e-8d79c4fcb828"
   },
   "outputs": [
    {
     "data": {
      "text/plain": [
       "0.9996268656716418"
      ]
     },
     "execution_count": 135,
     "metadata": {},
     "output_type": "execute_result"
    }
   ],
   "source": [
    "random_forest_scor = random_forest_group3.score(X_test, y_test)\n",
    "random_forest_scor"
   ]
  },
  {
   "cell_type": "code",
   "execution_count": 136,
   "id": "e4a184ce",
   "metadata": {
    "colab": {
     "base_uri": "https://localhost:8080/"
    },
    "id": "e4a184ce",
    "outputId": "b5e22562-33b6-42a0-84cf-87913081bdff"
   },
   "outputs": [
    {
     "name": "stdout",
     "output_type": "stream",
     "text": [
      "[[5353    0]\n",
      " [   4 5363]]\n"
     ]
    }
   ],
   "source": [
    "y_pred_forest = random_forest_group3.predict(X_test)\n",
    "random_forest_confusion = confusion_matrix(y_pred_forest,y_test)\n",
    "print(random_forest_confusion )"
   ]
  },
  {
   "cell_type": "code",
   "execution_count": 137,
   "id": "0f50f14f",
   "metadata": {
    "colab": {
     "base_uri": "https://localhost:8080/"
    },
    "id": "0f50f14f",
    "outputId": "4c6f568d-6952-40d3-9a9b-ecfe2f13e45e"
   },
   "outputs": [
    {
     "name": "stdout",
     "output_type": "stream",
     "text": [
      "              precision    recall  f1-score   support\n",
      "\n",
      "           0       1.00      1.00      1.00      5353\n",
      "           1       1.00      1.00      1.00      5367\n",
      "\n",
      "    accuracy                           1.00     10720\n",
      "   macro avg       1.00      1.00      1.00     10720\n",
      "weighted avg       1.00      1.00      1.00     10720\n",
      "\n"
     ]
    }
   ],
   "source": [
    "random_forest_CL_report = classification_report(y_pred_forest,y_test)\n",
    "print(random_forest_CL_report)"
   ]
  },
  {
   "cell_type": "code",
   "execution_count": 138,
   "id": "91d70046",
   "metadata": {
    "colab": {
     "base_uri": "https://localhost:8080/",
     "height": 295
    },
    "id": "91d70046",
    "outputId": "b1713601-6e48-4dd0-d0a6-c5689d447874"
   },
   "outputs": [
    {
     "data": {
      "image/png": "[encoded data removed]",
      "text/plain": [
       "<Figure size 432x288 with 1 Axes>"
      ]
     },
     "metadata": {
      "needs_background": "light"
     },
     "output_type": "display_data"
    }
   ],
   "source": [
    "probs = random_forest_group3.predict_proba(X_test)\n",
    "preds = probs[:,1]\n",
    "fpr, tpr, threshold = metrics.roc_curve(y_test, y_pred_forest)\n",
    "roc_auc = metrics.auc(fpr, tpr)\n",
    "\n",
    "plt.title('Random Forest ROC')\n",
    "plt.plot(fpr, tpr, 'b', label = 'AUC = %0.2f' % roc_auc)\n",
    "plt.legend(loc = 'lower right')\n",
    "plt.plot([0, 1], [0, 1],'r--')\n",
    "plt.xlim([0, 1])\n",
    "plt.ylim([0, 1])\n",
    "plt.ylabel('True Positive Rate')\n",
    "plt.xlabel('False Positive Rate')\n",
    "plt.show()"
   ]
  },
  {
   "cell_type": "code",
   "execution_count": null,
   "id": "95d1dea7",
   "metadata": {
    "colab": {
     "base_uri": "https://localhost:8080/"
    },
    "id": "95d1dea7",
    "outputId": "fd28e90d-b082-438d-ca38-134e62dfff6d"
   },
   "outputs": [],
   "source": [
    "from sklearn.model_selection import KFold\n",
    "from sklearn.model_selection import cross_val_score\n",
    "\n",
    "cv = KFold(n_splits=10, random_state=42, shuffle=True)\n",
    "scores = cross_val_score(random_forest_group3, X, y, scoring='accuracy', cv=cv, n_jobs=-1)\n",
    "print('Accuracy: %.3f (%.3f)' % (np.mean(scores), np.std(scores)))"
   ]
  },
  {
   "cell_type": "markdown",
   "id": "94f6107e",
   "metadata": {},
   "source": [
    "# Support Victor Machines "
   ]
  },
  {
   "cell_type": "code",
   "execution_count": 143,
   "id": "279b1cef",
   "metadata": {
    "colab": {
     "base_uri": "https://localhost:8080/"
    },
    "id": "279b1cef",
    "outputId": "dfced144-886a-4503-f2e5-b9c183aaa7d7"
   },
   "outputs": [
    {
     "name": "stdout",
     "output_type": "stream",
     "text": [
      "0.6069029850746268\n"
     ]
    }
   ],
   "source": [
    "from sklearn import svm\n",
    "from sklearn.metrics import confusion_matrix, classification_report\n",
    "SVM_group3 = svm.SVC(probability=True)\n",
    "SVM_group3.fit(X_train,y_train)\n",
    "SVM_score=SVM_group3.score(X_test,y_test)\n",
    "print(SVM_score)"
   ]
  },
  {
   "cell_type": "code",
   "execution_count": 145,
   "id": "633995f0",
   "metadata": {
    "colab": {
     "base_uri": "https://localhost:8080/"
    },
    "id": "633995f0",
    "outputId": "7f826500-ab24-4bd8-9360-c8ba089f30a9"
   },
   "outputs": [
    {
     "name": "stdout",
     "output_type": "stream",
     "text": [
      "[[2536 1393]\n",
      " [2821 3970]]\n"
     ]
    }
   ],
   "source": [
    "y_pred_SVM = SVM_group3.predict(X_test)\n",
    "SVM_confusion= confusion_matrix(y_pred_SVM,y_test)\n",
    "print(SVM_confusion)"
   ]
  },
  {
   "cell_type": "code",
   "execution_count": 146,
   "id": "fa0f3b24",
   "metadata": {},
   "outputs": [
    {
     "name": "stdout",
     "output_type": "stream",
     "text": [
      "              precision    recall  f1-score   support\n",
      "\n",
      "           0       0.47      0.65      0.55      3929\n",
      "           1       0.74      0.58      0.65      6791\n",
      "\n",
      "    accuracy                           0.61     10720\n",
      "   macro avg       0.61      0.62      0.60     10720\n",
      "weighted avg       0.64      0.61      0.61     10720\n",
      "\n"
     ]
    }
   ],
   "source": [
    "SVM_CL_report=classification_report(y_pred_SVM,y_test)\n",
    "print(SVM_CL_report)"
   ]
  },
  {
   "cell_type": "code",
   "execution_count": null,
   "id": "91f9cd57",
   "metadata": {},
   "outputs": [],
   "source": [
    "from sklearn.model_selection import GridSearchCV\n",
    "\n",
    "param_grid = [\n",
    "  {'C': [1, 10, 100, 1000], 'kernel': ['linear']},\n",
    "  {'C': [1, 10, 100, 1000], 'gamma': [0.001, 0.0001], 'kernel': ['rbf']},\n",
    " ]\n",
    "\n",
    "grid = GridSearchCV(SVM_group3, param_grid, cv=2).fit(X_train, y_train)\n",
    " \n",
    "print('Training set score: ' + str(grid.score(X_train, y_train)))\n",
    "print('Test set score: ' + str(grid.score(X_test, y_test)))"
   ]
  },
  {
   "cell_type": "code",
   "execution_count": 147,
   "id": "YNUiARSP2H3S",
   "metadata": {
    "colab": {
     "base_uri": "https://localhost:8080/",
     "height": 295
    },
    "id": "YNUiARSP2H3S",
    "outputId": "5062000d-e048-48e2-ad4c-7c3ebdcc373a"
   },
   "outputs": [
    {
     "data": {
      "image/png": "[encoded data removed]",
      "text/plain": [
       "<Figure size 432x288 with 1 Axes>"
      ]
     },
     "metadata": {
      "needs_background": "light"
     },
     "output_type": "display_data"
    }
   ],
   "source": [
    "probs = SVM_group3.predict_proba(X_test)\n",
    "preds = probs[:,1]\n",
    "fpr, tpr, threshold = metrics.roc_curve(y_test, y_pred_SVM)\n",
    "roc_auc = metrics.auc(fpr, tpr)\n",
    "\n",
    "plt.title('SVM ROC')\n",
    "plt.plot(fpr, tpr, 'b', label = 'AUC = %0.2f' % roc_auc)\n",
    "plt.legend(loc = 'lower right')\n",
    "plt.plot([0, 1], [0, 1],'r--')\n",
    "plt.xlim([0, 1])\n",
    "plt.ylim([0, 1])\n",
    "plt.ylabel('True Positive Rate')\n",
    "plt.xlabel('False Positive Rate')\n",
    "plt.show()"
   ]
  },
  {
   "cell_type": "markdown",
   "id": "2e17b566",
   "metadata": {},
   "source": [
    "# Neural Networks "
   ]
  },
  {
   "cell_type": "code",
   "execution_count": 67,
   "id": "d40674db",
   "metadata": {},
   "outputs": [
    {
     "name": "stdout",
     "output_type": "stream",
     "text": [
      "[[5124  233]\n",
      " [  16 5347]]\n"
     ]
    }
   ],
   "source": [
    "from sklearn.neural_network import MLPClassifier\n",
    "\n",
    "neural_network_group3 = MLPClassifier(hidden_layer_sizes=(60,60,60,60,60,60,60,60,60,60))\n",
    "neural_network_group3.fit(X_train, y_train)\n",
    "y_pred_neural = neural_network_group3.predict(X_test)\n",
    "\n",
    "print(confusion_matrix(y_test,y_pred_neural))"
   ]
  },
  {
   "cell_type": "code",
   "execution_count": 68,
   "id": "74778f75",
   "metadata": {},
   "outputs": [
    {
     "name": "stdout",
     "output_type": "stream",
     "text": [
      "              precision    recall  f1-score   support\n",
      "\n",
      "           0       1.00      0.96      0.98      5357\n",
      "           1       0.96      1.00      0.98      5363\n",
      "\n",
      "    accuracy                           0.98     10720\n",
      "   macro avg       0.98      0.98      0.98     10720\n",
      "weighted avg       0.98      0.98      0.98     10720\n",
      "\n"
     ]
    }
   ],
   "source": [
    "print(classification_report(y_test,y_pred_neural))"
   ]
  },
  {
   "cell_type": "code",
   "execution_count": 141,
   "id": "c9157288",
   "metadata": {},
   "outputs": [
    {
     "data": {
      "image/png": "[encoded data removed]",
      "text/plain": [
       "<Figure size 432x288 with 1 Axes>"
      ]
     },
     "metadata": {
      "needs_background": "light"
     },
     "output_type": "display_data"
    }
   ],
   "source": [
    "probs = neural_network_group3.predict_proba(X_test)\n",
    "preds = probs[:,1]\n",
    "fpr, tpr, threshold = metrics.roc_curve(y_test, y_pred_neural)\n",
    "roc_auc = metrics.auc(fpr, tpr)\n",
    "\n",
    "plt.title('Neural Networks ROC')\n",
    "plt.plot(fpr, tpr, 'b', label = 'AUC = %0.2f' % roc_auc)\n",
    "plt.legend(loc = 'lower right')\n",
    "plt.plot([0, 1], [0, 1],'r--')\n",
    "plt.xlim([0, 1])\n",
    "plt.ylim([0, 1])\n",
    "plt.ylabel('True Positive Rate')\n",
    "plt.xlabel('False Positive Rate')\n",
    "plt.show()"
   ]
  },
  {
   "cell_type": "code",
   "execution_count": null,
   "id": "9744ed6b",
   "metadata": {},
   "outputs": [],
   "source": []
  },
  {
   "cell_type": "code",
   "execution_count": null,
   "id": "df5b1f53",
   "metadata": {},
   "outputs": [],
   "source": []
  }
 ],
 "metadata": {
  "colab": {
   "name": "Group_project_Sayed_Fayaz.ipynb",
   "provenance": []
  },
  "kernelspec": {
   "display_name": "Python 3 (ipykernel)",
   "language": "python",
   "name": "python3"
  },
  "language_info": {
   "codemirror_mode": {
    "name": "ipython",
    "version": 3
   },
   "file_extension": ".py",
   "mimetype": "text/x-python",
   "name": "python",
   "nbconvert_exporter": "python",
   "pygments_lexer": "ipython3",
   "version": "3.9.7"
  }
 },
 "nbformat": 4,
 "nbformat_minor": 5
}
